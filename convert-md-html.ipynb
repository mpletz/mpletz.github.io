{
 "cells": [
  {
   "cell_type": "markdown",
   "metadata": {
    "collapsed": false,
    "pycharm": {
     "name": "#%% md\n"
    }
   },
   "source": [
    "# Convert md to html with nutshell"
   ]
  },
  {
   "cell_type": "code",
   "execution_count": 9,
   "metadata": {
    "collapsed": false,
    "pycharm": {
     "is_executing": true,
     "name": "#%%\n"
    }
   },
   "outputs": [],
   "source": [
    "import os,math"
   ]
  },
  {
   "cell_type": "code",
   "execution_count": 2,
   "metadata": {},
   "outputs": [],
   "source": [
    "top_str = \"\"\"<!DOCTYPE html>\n",
    "<html>\n",
    "<script src=\"https://cdn.jsdelivr.net/gh/ncase/nutshell@1.0.2/nutshell.js\">\n",
    "Nutshell.setOptions({\n",
    "    startOnLoad: true, // Start Nutshell on load? (default: true)\n",
    "    lang: 'de', // Language (default: 'en', which is English)\n",
    "    dontEmbedHeadings: true, // If 'true', removes the \"embed this as a nutshell\" option on headings\n",
    "});\n",
    "</script>\n",
    "<header>\n",
    "<link rel=\"stylesheet\" href=\"mystyle.css\">\n",
    "<meta http-equiv=\"content-type\" content=\"text/html; charset=utf-8\">\n",
    "</header>\n",
    "<body>\n",
    "\"\"\"\n",
    "\n",
    "bot_str = \"\"\"</body>\n",
    "</html>\"\"\""
   ]
  },
  {
   "cell_type": "code",
   "execution_count": 3,
   "metadata": {},
   "outputs": [],
   "source": [
    "def make_html(md_file):\n",
    "    # create html from nutshell markdown file\n",
    "    \n",
    "    file_n = md_file[:-3]\n",
    "    \n",
    "    os.system('pandoc '+md_file+' -o '+file_n+'.html')\n",
    "    \n",
    "    # read just body lines\n",
    "    with open(file_n+'.html', 'r') as f:\n",
    "        html_lines = f.read()\n",
    "    \n",
    "    # combine with top and bottom and write to htlm\n",
    "    with open(file_n+'.html', 'w') as f:\n",
    "        f.write(top_str+html_lines+bot_str)\n",
    "    return"
   ]
  },
  {
   "cell_type": "code",
   "execution_count": 43,
   "metadata": {},
   "outputs": [],
   "source": [
    "make_html('mikroplastik.md')"
   ]
  },
  {
   "cell_type": "code",
   "execution_count": 40,
   "metadata": {},
   "outputs": [
    {
     "data": {
      "text/plain": [
       "7.142857142857143"
      ]
     },
     "execution_count": 40,
     "metadata": {},
     "output_type": "execute_result"
    }
   ],
   "source": [
    "5/0.7"
   ]
  },
  {
   "cell_type": "code",
   "execution_count": 1,
   "metadata": {},
   "outputs": [
    {
     "data": {
      "text/plain": [
       "500.0"
      ]
     },
     "execution_count": 1,
     "metadata": {},
     "output_type": "execute_result"
    }
   ],
   "source": [
    "25*8*2.5"
   ]
  },
  {
   "cell_type": "code",
   "execution_count": 3,
   "metadata": {},
   "outputs": [
    {
     "data": {
      "text/plain": [
       "4.999999999999999e-10"
      ]
     },
     "execution_count": 3,
     "metadata": {},
     "output_type": "execute_result"
    }
   ],
   "source": [
    "0.00025*10**(-3)/500"
   ]
  },
  {
   "cell_type": "code",
   "execution_count": 6,
   "metadata": {},
   "outputs": [
    {
     "data": {
      "text/plain": [
       "8936000000.0"
      ]
     },
     "execution_count": 6,
     "metadata": {},
     "output_type": "execute_result"
    }
   ],
   "source": [
    "# olympisches pool\n",
    "2234/(0.25e-6)"
   ]
  },
  {
   "cell_type": "code",
   "execution_count": null,
   "metadata": {},
   "outputs": [],
   "source": []
  }
 ],
 "metadata": {
  "kernelspec": {
   "display_name": "Python 3",
   "language": "python",
   "name": "python3"
  },
  "language_info": {
   "codemirror_mode": {
    "name": "ipython",
    "version": 3
   },
   "file_extension": ".py",
   "mimetype": "text/x-python",
   "name": "python",
   "nbconvert_exporter": "python",
   "pygments_lexer": "ipython3",
   "version": "3.9.13"
  }
 },
 "nbformat": 4,
 "nbformat_minor": 0
}
